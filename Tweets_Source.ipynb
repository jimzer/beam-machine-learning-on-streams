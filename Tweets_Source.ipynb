{
  "nbformat": 4,
  "nbformat_minor": 0,
  "metadata": {
    "colab": {
      "name": "Tweets Source.ipynb",
      "provenance": [],
      "collapsed_sections": []
    },
    "kernelspec": {
      "display_name": "Python 3",
      "name": "python3"
    }
  },
  "cells": [
    {
      "cell_type": "markdown",
      "metadata": {
        "id": "hy03Mh-2nGv4"
      },
      "source": [
        "# Setup"
      ]
    },
    {
      "cell_type": "code",
      "metadata": {
        "id": "4eQp3HZomN8I"
      },
      "source": [
        "# Download needed packages\n",
        "!pip install --quiet google-cloud-pubsub\n",
        "!pip install --quiet fsspec gcsfs"
      ],
      "execution_count": 3,
      "outputs": []
    },
    {
      "cell_type": "code",
      "metadata": {
        "id": "YuqJxOQbmmik"
      },
      "source": [
        "from google.colab import auth"
      ],
      "execution_count": 6,
      "outputs": []
    },
    {
      "cell_type": "code",
      "metadata": {
        "id": "0660bxYkmoI9"
      },
      "source": [
        "from google.cloud import pubsub\n",
        "from google.api_core import exceptions as gexc"
      ],
      "execution_count": 7,
      "outputs": []
    },
    {
      "cell_type": "code",
      "metadata": {
        "id": "hJ29SK4Qm2gt"
      },
      "source": [
        "# { display-mode: \"form\" }\n",
        "project_id = \"starthack-workshop\" #@param {type:\"string\"}"
      ],
      "execution_count": 8,
      "outputs": []
    },
    {
      "cell_type": "code",
      "metadata": {
        "id": "qdiU72jym3_R"
      },
      "source": [
        "auth.authenticate_user()"
      ],
      "execution_count": 9,
      "outputs": []
    },
    {
      "cell_type": "markdown",
      "metadata": {
        "id": "rYbGcWdynNo9"
      },
      "source": [
        "# Publisher\n"
      ]
    },
    {
      "cell_type": "code",
      "metadata": {
        "id": "pUli0d5nAJ0P"
      },
      "source": [
        "import json\n",
        "import time\n",
        "from typing import Dict\n",
        "from concurrent.futures import Future\n",
        "\n",
        "\n",
        "import numpy as np\n",
        "import pandas as pd\n",
        "from google.cloud import storage\n",
        "\n",
        "# Read the testing dataset from google cloud bucket into a DataFrame\n",
        "df_test = pd.read_csv(\"gs://starthack-workshop-data/test.csv\")\n",
        "\n",
        "# Tranform each row into a JSON\n",
        "jsons = [json.dumps(x) for x in df_test.to_dict(orient=\"records\")]"
      ],
      "execution_count": 26,
      "outputs": []
    },
    {
      "cell_type": "code",
      "metadata": {
        "id": "XTAM6Ex4m68u"
      },
      "source": [
        "# Initialize the Pub/Sub client\n",
        "pub_client = pubsub.PublisherClient()\n",
        "topic_path = pub_client.topic_path(project_id, \"tweets-in\")"
      ],
      "execution_count": 27,
      "outputs": []
    },
    {
      "cell_type": "code",
      "metadata": {
        "colab": {
          "base_uri": "https://localhost:8080/",
          "height": 787
        },
        "id": "T1kntCU-oTdF",
        "outputId": "7a42326f-14ba-4d97-9167-d04f9316f654"
      },
      "source": [
        "# When we push a message to a topic we get a future, we store them to\n",
        "# make sure we wait for all of them to finish before ending the code\n",
        "# execution\n",
        "futures = dict()\n",
        "\n",
        "def get_callback(f: Future, data: Dict):\n",
        "    \"\"\"Get a callback function called when the client is done sending a \n",
        "    message\"\"\"\n",
        "\n",
        "    def callback(f: Future):\n",
        "        \"\"\"Callback called when future is complete\"\"\"\n",
        "        try:\n",
        "            print(f\"Future: {f.result()}, data: {data[:70]} ...\")\n",
        "            futures.pop(data)\n",
        "        except Exception as err:\n",
        "            print(err)\n",
        "            print(\"Please handle {} for {}.\".format(f.exception(), data))\n",
        "\n",
        "    return callback\n",
        "\n",
        "# We send 100 Tweets. We sample an exponential distribution for our waiting\n",
        "# time between events (this is not important)\n",
        "for i, wait_time in enumerate(np.random.exponential(1, 100)):\n",
        "    # Readt the ith json\n",
        "    data = jsons[i]\n",
        "    # We set the future corresponding to this data to None\n",
        "    futures.update({data: None})\n",
        "    # We publish and get a Future\n",
        "    future = pub_client.publish(topic_path, data.encode(\"utf-8\"))\n",
        "    futures[data] = future\n",
        "    # Publish failures shall be handled in the callback function.\n",
        "    future.add_done_callback(get_callback(future, data))\n",
        "    time.sleep(wait_time)\n",
        "\n",
        "\n",
        "\n",
        "# Wait for all the publish futures to resolve before exiting.\n",
        "while futures:\n",
        "    time.sleep(5)\n",
        "\n",
        "print(f\"Published messages with error handler to {topic_path}.\")"
      ],
      "execution_count": 33,
      "outputs": [
        {
          "output_type": "stream",
          "text": [
            "Future: 2169611729020673, data: {\"id\": 0, \"keyword\": NaN, \"location\": NaN, \"text\": \"Just happened a te ...\n",
            "Future: 2169575979334650, data: {\"id\": 2, \"keyword\": NaN, \"location\": NaN, \"text\": \"Heard about #earth ...\n",
            "Future: 2169592659903786, data: {\"id\": 3, \"keyword\": NaN, \"location\": NaN, \"text\": \"there is a forest  ...\n",
            "Future: 2169592398088145, data: {\"id\": 9, \"keyword\": NaN, \"location\": NaN, \"text\": \"Apocalypse lightin ...\n",
            "Future: 2169602577894871, data: {\"id\": 11, \"keyword\": NaN, \"location\": NaN, \"text\": \"Typhoon Soudelor  ...\n",
            "Future: 2169619107025850, data: {\"id\": 12, \"keyword\": NaN, \"location\": NaN, \"text\": \"We're shaking...I ...\n",
            "Future: 2169601054512350, data: {\"id\": 21, \"keyword\": NaN, \"location\": NaN, \"text\": \"They'd probably s ...\n",
            "Future: 2169600516797586, data: {\"id\": 22, \"keyword\": NaN, \"location\": NaN, \"text\": \"Hey! How are you? ...\n",
            "Future: 2169608980569740, data: {\"id\": 27, \"keyword\": NaN, \"location\": NaN, \"text\": \"What a nice hat?\" ...\n",
            "Future: 2169634064559037, data: {\"id\": 29, \"keyword\": NaN, \"location\": NaN, \"text\": \"Fuck off!\"} ...\n",
            "Future: 2169629949085515, data: {\"id\": 30, \"keyword\": NaN, \"location\": NaN, \"text\": \"No I don't like c ...\n",
            "Future: 2169650617110299, data: {\"id\": 35, \"keyword\": NaN, \"location\": NaN, \"text\": \"NOOOOOOOOO! Don't ...\n",
            "Future: 2169626198714463, data: {\"id\": 42, \"keyword\": NaN, \"location\": NaN, \"text\": \"No don't tell me  ...\n",
            "Future: 2169611451492056, data: {\"id\": 43, \"keyword\": NaN, \"location\": NaN, \"text\": \"What if?!\"} ...\n",
            "Future: 2169611422144482, data: {\"id\": 45, \"keyword\": NaN, \"location\": NaN, \"text\": \"Awesome!\"} ...\n",
            "Future: 2169629467816252, data: {\"id\": 46, \"keyword\": \"ablaze\", \"location\": \"London\", \"text\": \"Birming ...\n",
            "Future: 2169625776962207, data: {\"id\": 47, \"keyword\": \"ablaze\", \"location\": \"Niall's place | SAF 12 SQ ...\n",
            "Future: 2169633180031611, data: {\"id\": 51, \"keyword\": \"ablaze\", \"location\": \"NIGERIA\", \"text\": \"#Previ ...\n",
            "Future: 2169631023003377, data: {\"id\": 58, \"keyword\": \"ablaze\", \"location\": \"Live On Webcam\", \"text\":  ...\n",
            "Future: 2169592301276583, data: {\"id\": 60, \"keyword\": \"ablaze\", \"location\": \"Los Angeles, Califnordia\" ...\n",
            "Future: 2169619150866185, data: {\"id\": 69, \"keyword\": \"ablaze\", \"location\": \"threeonefive. \", \"text\":  ...\n",
            "Future: 2169575887777164, data: {\"id\": 70, \"keyword\": \"ablaze\", \"location\": \"Washington State\", \"text\" ...\n",
            "Future: 2169598774802927, data: {\"id\": 72, \"keyword\": \"ablaze\", \"location\": \"Whoop Ass, Georgia\", \"tex ...\n",
            "Future: 2169592637725188, data: {\"id\": 75, \"keyword\": \"ablaze\", \"location\": \"India\", \"text\": \"Rape vic ...\n",
            "Future: 2169629547188560, data: {\"id\": 84, \"keyword\": \"ablaze\", \"location\": NaN, \"text\": \"SETTING MYSE ...\n",
            "Future: 2169625225402480, data: {\"id\": 87, \"keyword\": \"ablaze\", \"location\": \"scarborough, ontario\", \"t ...\n",
            "Future: 2169615927676669, data: {\"id\": 88, \"keyword\": \"ablaze\", \"location\": NaN, \"text\": \"#nowplaying  ...\n",
            "Future: 2169619277966346, data: {\"id\": 90, \"keyword\": \"ablaze\", \"location\": \"121 N La Salle St, Suite  ...\n",
            "Future: 2169619262699938, data: {\"id\": 94, \"keyword\": \"ablaze\", \"location\": \"Wandering\", \"text\": \"@Phi ...\n",
            "Future: 2169615928763535, data: {\"id\": 99, \"keyword\": \"accident\", \"location\": \"Homewood, PA\", \"text\":  ...\n",
            "Future: 2169600658532254, data: {\"id\": 101, \"keyword\": \"accident\", \"location\": NaN, \"text\": \"Just got  ...\n",
            "Future: 2169619206939108, data: {\"id\": 103, \"keyword\": \"accident\", \"location\": NaN, \"text\": \"I hate ba ...\n"
          ],
          "name": "stdout"
        },
        {
          "output_type": "error",
          "ename": "KeyboardInterrupt",
          "evalue": "ignored",
          "traceback": [
            "\u001b[0;31m---------------------------------------------------------------------------\u001b[0m",
            "\u001b[0;31mKeyboardInterrupt\u001b[0m                         Traceback (most recent call last)",
            "\u001b[0;32m<ipython-input-33-90dc5ed9ad96>\u001b[0m in \u001b[0;36m<module>\u001b[0;34m()\u001b[0m\n\u001b[1;32m     31\u001b[0m     \u001b[0;31m# Publish failures shall be handled in the callback function.\u001b[0m\u001b[0;34m\u001b[0m\u001b[0;34m\u001b[0m\u001b[0;34m\u001b[0m\u001b[0m\n\u001b[1;32m     32\u001b[0m     \u001b[0mfuture\u001b[0m\u001b[0;34m.\u001b[0m\u001b[0madd_done_callback\u001b[0m\u001b[0;34m(\u001b[0m\u001b[0mget_callback\u001b[0m\u001b[0;34m(\u001b[0m\u001b[0mfuture\u001b[0m\u001b[0;34m,\u001b[0m \u001b[0mdata\u001b[0m\u001b[0;34m)\u001b[0m\u001b[0;34m)\u001b[0m\u001b[0;34m\u001b[0m\u001b[0;34m\u001b[0m\u001b[0m\n\u001b[0;32m---> 33\u001b[0;31m     \u001b[0mtime\u001b[0m\u001b[0;34m.\u001b[0m\u001b[0msleep\u001b[0m\u001b[0;34m(\u001b[0m\u001b[0mwait_time\u001b[0m\u001b[0;34m)\u001b[0m\u001b[0;34m\u001b[0m\u001b[0;34m\u001b[0m\u001b[0m\n\u001b[0m\u001b[1;32m     34\u001b[0m \u001b[0;34m\u001b[0m\u001b[0m\n\u001b[1;32m     35\u001b[0m \u001b[0;34m\u001b[0m\u001b[0m\n",
            "\u001b[0;31mKeyboardInterrupt\u001b[0m: "
          ]
        }
      ]
    },
    {
      "cell_type": "code",
      "metadata": {
        "id": "ZWrcPC8gpM4M"
      },
      "source": [
        ""
      ],
      "execution_count": null,
      "outputs": []
    }
  ]
}